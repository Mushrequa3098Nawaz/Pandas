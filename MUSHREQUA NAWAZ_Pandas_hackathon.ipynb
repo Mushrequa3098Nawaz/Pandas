{
 "cells": [
  {
   "cell_type": "markdown",
   "metadata": {
    "colab_type": "text",
    "id": "MPo4XkxnGVL8"
   },
   "source": [
    "# Improve CampusX\n",
    "\n",
    "## Instructions\n",
    "\n",
    "1. You have to submit your solutions before **6:00pm tomorrow**\n",
    "2. The problems that I have given(**except the 1st one**) are problems with which we are also dealing with. So, in a way we are asking for your help through this hackathon.\n",
    "3. To be honest solving even a single question is a big deal in the given time duration. So, please don't get **frustrated** if you are not able to solve even one problem. \n",
    "4. A request - **don't quit**. Infact **never quit**.\n",
    "5. Marking Scheme for this hackathon is as follows\n",
    "**Total Marks=200**\n",
    "but, while adding this to your dashboard, your total marks will be divided by a **factor of 10**.\n",
    "So, let's say you scored 90 in the hackathon, you dashboard score would be 9\n",
    "6. Top 3 performers will get a **prize**, when we will meet next.Promise:)\n"
   ]
  },
  {
   "cell_type": "markdown",
   "metadata": {
    "colab_type": "text",
    "id": "J0fvZDeaGdu9"
   },
   "source": [
    "**Problem 1** : Write a python function which will receive 3 input i.e. batch name, start date and end date and returns the leaderboard(in that date window) of that particular batch with the following pieces of info - Name, Marks(till now)\n",
    "\n",
    "Note: If no date range is provided, show the leaderboard for the entire duration of the course\n",
    "\n",
    "**Marks -10**"
   ]
  },
  {
   "cell_type": "code",
   "execution_count": 95,
   "metadata": {},
   "outputs": [],
   "source": [
    "batch = pd.read_csv(\"batch.csv\")\n",
    "users = pd.read_csv(\"users.csv\")\n",
    "\n",
    "batchTask = pd.read_csv(\"batch_task.csv\")\n",
    "\n",
    "course = pd.read_csv(\"course.csv\")\n",
    "content = pd.read_csv(\"content.csv\")\n",
    "\n",
    "tasks = pd.read_csv(\"tasks.csv\")\n",
    "module = pd.read_csv(\"module.csv\")\n",
    "\n",
    "evaluation = pd.read_csv(\"evaluation.csv\")\n",
    "gyan = pd.read_csv(\"gyan.csv\")\n",
    "myday = pd.read_csv(\"myday.csv\")\n",
    "\n",
    "linkPreviewDetails = pd.read_csv(\"link_preview_details.csv\")\n",
    "urlTask = pd.read_csv(\"url_task.csv\")"
   ]
  },
  {
   "cell_type": "code",
   "execution_count": 44,
   "metadata": {},
   "outputs": [
    {
     "name": "stdout",
     "output_type": "stream",
     "text": [
      "                              score\n",
      "fname         lname                \n",
      "Ritwik        Ghosh           154.5\n",
      "Ritayan       Dhara           152.5\n",
      "Ritik         Verma           152.0\n",
      "Balaka        Biswas          150.0\n",
      "Alekhyo       Banerjee        147.5\n",
      "Priscila      Tamang Ghising  145.5\n",
      "Srijani       Chaudhury       145.0\n",
      "Rajtilak      Pal             144.0\n",
      "Writuparna    Banerjee        144.0\n",
      "Sankha Subhra Mondal          142.0\n",
      "Suman         Das             141.5\n",
      "Tuhin         Mukherjee       140.5\n",
      "GAZAL         GARG            140.5\n",
      "Sarthak       Kundu           140.0\n",
      "SHUBHOBRATA   DAS             139.0\n",
      "Sumantra      Pal             138.0\n",
      "Satyaki       Saha            137.5\n",
      "Madhuparna    Majumdar        136.0\n",
      "Rima          Kar             135.5\n",
      "Diganta       Das             134.5\n",
      "Sanaa         Yousuf          134.0\n",
      "Tathagata     Nath            121.0\n",
      "Sagar         Sarkar          111.0\n",
      "Wasif         Ekbal           108.5\n",
      "Mushrequa     Nawaz           104.5\n",
      "Rahul         Ghosh            86.0\n",
      "RAHUL         SINGH            78.0\n",
      "Rajrupa       Mitra            75.5\n",
      "Rahul         Shaw             72.0\n",
      "Banti         Pandey           71.5\n",
      "Srinjoy       Chowdhury        69.5\n",
      "Dilshad       Hussain          39.5\n",
      "Soumyajyoti   Karmakar         39.5\n",
      "Abhiraj       Gope              5.5\n",
      "Om            Prakash Shaw      5.0\n"
     ]
    }
   ],
   "source": [
    "\n",
    "a=batch.merge(users,left_on='batch_id',right_on='batch_id')\n",
    "b=a.merge(evaluation,left_on='user_id',right_on='user_id')\n",
    "\n",
    "def func(batchname,startdate):\n",
    "\n",
    "    batch_name_is=b[b['batch_name']==batchname]\n",
    "    start_date=batch_name_is[batch_name_is['batch_start_date']==startdate]\n",
    "\n",
    "    x=start_date.groupby(['fname','lname'])[['fname','lname','score']].sum()\n",
    "    leaderboard=x.sort_values(by='score',ascending=False)\n",
    "    print(leaderboard)\n",
    "func('Machine Learning Kolkata 2','2020-01-19')    "
   ]
  },
  {
   "cell_type": "code",
   "execution_count": 3,
   "metadata": {},
   "outputs": [],
   "source": [
    "import numpy as np\n",
    "import pandas as pd"
   ]
  },
  {
   "cell_type": "code",
   "execution_count": 16,
   "metadata": {
    "colab": {},
    "colab_type": "code",
    "id": "M5mpxSKkG6Lt"
   },
   "outputs": [],
   "source": [
    "# Write your code here"
   ]
  },
  {
   "cell_type": "markdown",
   "metadata": {
    "colab_type": "text",
    "id": "LRkneACyI35s"
   },
   "source": [
    "**Problem 2**: Write a python function that receives 1 input, batch_name and returns the list of top 10 students who require maximum attention from the teacher.\n",
    "\n",
    "**Note**: I know this is kind of abstract, but truly we are facing this problem. Try to come up with a solution/algorithm. \n",
    "\n",
    "**Tip** : Don't just think in terms of marks, also think about things like late submissions, number of submissions, myday etc\n",
    "\n",
    "**Tricky scenario**: Aisa bhi ho sakta hai koi student bas shuru me acha perform nai kar raha tha, but ab kar raha hai. So consider dates also.\n",
    "\n",
    "**Marks : 50**"
   ]
  },
  {
   "cell_type": "code",
   "execution_count": 82,
   "metadata": {
    "colab": {},
    "colab_type": "code",
    "id": "-A_ZLtX8HeQ2",
    "scrolled": true
   },
   "outputs": [
    {
     "data": {
      "text/html": [
       "<div>\n",
       "<style scoped>\n",
       "    .dataframe tbody tr th:only-of-type {\n",
       "        vertical-align: middle;\n",
       "    }\n",
       "\n",
       "    .dataframe tbody tr th {\n",
       "        vertical-align: top;\n",
       "    }\n",
       "\n",
       "    .dataframe thead th {\n",
       "        text-align: right;\n",
       "    }\n",
       "</style>\n",
       "<table border=\"1\" class=\"dataframe\">\n",
       "  <thead>\n",
       "    <tr style=\"text-align: right;\">\n",
       "      <th></th>\n",
       "      <th>score</th>\n",
       "      <th>late</th>\n",
       "      <th>winner</th>\n",
       "    </tr>\n",
       "    <tr>\n",
       "      <th>user_id</th>\n",
       "      <th></th>\n",
       "      <th></th>\n",
       "      <th></th>\n",
       "    </tr>\n",
       "  </thead>\n",
       "  <tbody>\n",
       "    <tr>\n",
       "      <td>75</td>\n",
       "      <td>154.5</td>\n",
       "      <td>1</td>\n",
       "      <td>5</td>\n",
       "    </tr>\n",
       "    <tr>\n",
       "      <td>90</td>\n",
       "      <td>152.5</td>\n",
       "      <td>1</td>\n",
       "      <td>7</td>\n",
       "    </tr>\n",
       "    <tr>\n",
       "      <td>76</td>\n",
       "      <td>152.0</td>\n",
       "      <td>0</td>\n",
       "      <td>4</td>\n",
       "    </tr>\n",
       "    <tr>\n",
       "      <td>78</td>\n",
       "      <td>150.0</td>\n",
       "      <td>0</td>\n",
       "      <td>5</td>\n",
       "    </tr>\n",
       "    <tr>\n",
       "      <td>87</td>\n",
       "      <td>147.5</td>\n",
       "      <td>1</td>\n",
       "      <td>2</td>\n",
       "    </tr>\n",
       "    <tr>\n",
       "      <td>104</td>\n",
       "      <td>145.5</td>\n",
       "      <td>4</td>\n",
       "      <td>2</td>\n",
       "    </tr>\n",
       "    <tr>\n",
       "      <td>96</td>\n",
       "      <td>145.0</td>\n",
       "      <td>1</td>\n",
       "      <td>3</td>\n",
       "    </tr>\n",
       "    <tr>\n",
       "      <td>93</td>\n",
       "      <td>144.0</td>\n",
       "      <td>3</td>\n",
       "      <td>4</td>\n",
       "    </tr>\n",
       "    <tr>\n",
       "      <td>77</td>\n",
       "      <td>144.0</td>\n",
       "      <td>2</td>\n",
       "      <td>4</td>\n",
       "    </tr>\n",
       "    <tr>\n",
       "      <td>101</td>\n",
       "      <td>142.0</td>\n",
       "      <td>2</td>\n",
       "      <td>1</td>\n",
       "    </tr>\n",
       "  </tbody>\n",
       "</table>\n",
       "</div>"
      ],
      "text/plain": [
       "         score  late  winner\n",
       "user_id                     \n",
       "75       154.5     1       5\n",
       "90       152.5     1       7\n",
       "76       152.0     0       4\n",
       "78       150.0     0       5\n",
       "87       147.5     1       2\n",
       "104      145.5     4       2\n",
       "96       145.0     1       3\n",
       "93       144.0     3       4\n",
       "77       144.0     2       4\n",
       "101      142.0     2       1"
      ]
     },
     "execution_count": 82,
     "metadata": {},
     "output_type": "execute_result"
    }
   ],
   "source": [
    "# Write your code here\n",
    "\n",
    "#x=batch.merge(users,left_on='batch_id',right_on='batch_id')\n",
    "#y=x.merge(evaluation,left_on='user_id',right_on='user_id')\n",
    "#z=y.merge(my_day,left_on='user_id',right_on='user_id')\n",
    "#z\n",
    "#batch2=z[z['batch_name']=='Machine Learning Kolkata 2']\n",
    "#batch2[['fname','lname','batch_id']]\n",
    "#x=batch2.groupby(['fname','lname','batch_id'])['fname','lname','batch_id','score','winner','late'].sum().sort_values('score',ascending=False).head(10)\n",
    "#x\n",
    "\n",
    "BatchId = batch[batch['batch_name'] == \"Machine Learning Kolkata 2\"]\n",
    "x=BatchId['batch_id'].values[0]\n",
    "\n",
    "batchStudents = users.groupby('batch_id').get_group(x)\n",
    "Evaluation = evaluation[evaluation['user_id'].isin(batchStudents['user_id'])]\n",
    "top=Evaluation.merge(users,left_on='user_id',right_on='user_id')\n",
    "\n",
    "\n",
    "\n",
    "top.groupby('user_id')['fname','lname','score','late','winner'].sum().sort_values('score', ascending = False).head(10)"
   ]
  },
  {
   "cell_type": "code",
   "execution_count": 63,
   "metadata": {},
   "outputs": [
    {
     "data": {
      "text/html": [
       "<div>\n",
       "<style scoped>\n",
       "    .dataframe tbody tr th:only-of-type {\n",
       "        vertical-align: middle;\n",
       "    }\n",
       "\n",
       "    .dataframe tbody tr th {\n",
       "        vertical-align: top;\n",
       "    }\n",
       "\n",
       "    .dataframe thead th {\n",
       "        text-align: right;\n",
       "    }\n",
       "</style>\n",
       "<table border=\"1\" class=\"dataframe\">\n",
       "  <thead>\n",
       "    <tr style=\"text-align: right;\">\n",
       "      <th></th>\n",
       "      <th>e_id</th>\n",
       "      <th>task_id</th>\n",
       "      <th>user_id</th>\n",
       "      <th>evaluation_date</th>\n",
       "      <th>late</th>\n",
       "      <th>score</th>\n",
       "      <th>winner</th>\n",
       "    </tr>\n",
       "  </thead>\n",
       "  <tbody>\n",
       "    <tr>\n",
       "      <td>0</td>\n",
       "      <td>1</td>\n",
       "      <td>16</td>\n",
       "      <td>9</td>\n",
       "      <td>2020-01-09</td>\n",
       "      <td>0</td>\n",
       "      <td>29.0</td>\n",
       "      <td>0</td>\n",
       "    </tr>\n",
       "    <tr>\n",
       "      <td>1</td>\n",
       "      <td>2</td>\n",
       "      <td>1</td>\n",
       "      <td>18</td>\n",
       "      <td>2020-01-09</td>\n",
       "      <td>0</td>\n",
       "      <td>32.0</td>\n",
       "      <td>0</td>\n",
       "    </tr>\n",
       "    <tr>\n",
       "      <td>2</td>\n",
       "      <td>3</td>\n",
       "      <td>16</td>\n",
       "      <td>6</td>\n",
       "      <td>2020-01-09</td>\n",
       "      <td>0</td>\n",
       "      <td>28.0</td>\n",
       "      <td>0</td>\n",
       "    </tr>\n",
       "    <tr>\n",
       "      <td>3</td>\n",
       "      <td>4</td>\n",
       "      <td>16</td>\n",
       "      <td>10</td>\n",
       "      <td>2020-01-09</td>\n",
       "      <td>0</td>\n",
       "      <td>32.0</td>\n",
       "      <td>0</td>\n",
       "    </tr>\n",
       "    <tr>\n",
       "      <td>4</td>\n",
       "      <td>5</td>\n",
       "      <td>1</td>\n",
       "      <td>5</td>\n",
       "      <td>2020-01-09</td>\n",
       "      <td>0</td>\n",
       "      <td>33.0</td>\n",
       "      <td>1</td>\n",
       "    </tr>\n",
       "    <tr>\n",
       "      <td>...</td>\n",
       "      <td>...</td>\n",
       "      <td>...</td>\n",
       "      <td>...</td>\n",
       "      <td>...</td>\n",
       "      <td>...</td>\n",
       "      <td>...</td>\n",
       "      <td>...</td>\n",
       "    </tr>\n",
       "    <tr>\n",
       "      <td>431</td>\n",
       "      <td>434</td>\n",
       "      <td>29</td>\n",
       "      <td>70</td>\n",
       "      <td>2020-02-22</td>\n",
       "      <td>1</td>\n",
       "      <td>7.5</td>\n",
       "      <td>0</td>\n",
       "    </tr>\n",
       "    <tr>\n",
       "      <td>432</td>\n",
       "      <td>435</td>\n",
       "      <td>27</td>\n",
       "      <td>102</td>\n",
       "      <td>2020-02-22</td>\n",
       "      <td>1</td>\n",
       "      <td>8.0</td>\n",
       "      <td>0</td>\n",
       "    </tr>\n",
       "    <tr>\n",
       "      <td>433</td>\n",
       "      <td>436</td>\n",
       "      <td>27</td>\n",
       "      <td>85</td>\n",
       "      <td>2020-02-24</td>\n",
       "      <td>1</td>\n",
       "      <td>8.0</td>\n",
       "      <td>0</td>\n",
       "    </tr>\n",
       "    <tr>\n",
       "      <td>434</td>\n",
       "      <td>437</td>\n",
       "      <td>29</td>\n",
       "      <td>85</td>\n",
       "      <td>2020-02-24</td>\n",
       "      <td>1</td>\n",
       "      <td>9.5</td>\n",
       "      <td>0</td>\n",
       "    </tr>\n",
       "    <tr>\n",
       "      <td>435</td>\n",
       "      <td>438</td>\n",
       "      <td>29</td>\n",
       "      <td>79</td>\n",
       "      <td>2020-02-24</td>\n",
       "      <td>1</td>\n",
       "      <td>9.0</td>\n",
       "      <td>0</td>\n",
       "    </tr>\n",
       "  </tbody>\n",
       "</table>\n",
       "<p>436 rows × 7 columns</p>\n",
       "</div>"
      ],
      "text/plain": [
       "     e_id  task_id  user_id evaluation_date  late  score  winner\n",
       "0       1       16        9      2020-01-09     0   29.0       0\n",
       "1       2        1       18      2020-01-09     0   32.0       0\n",
       "2       3       16        6      2020-01-09     0   28.0       0\n",
       "3       4       16       10      2020-01-09     0   32.0       0\n",
       "4       5        1        5      2020-01-09     0   33.0       1\n",
       "..    ...      ...      ...             ...   ...    ...     ...\n",
       "431   434       29       70      2020-02-22     1    7.5       0\n",
       "432   435       27      102      2020-02-22     1    8.0       0\n",
       "433   436       27       85      2020-02-24     1    8.0       0\n",
       "434   437       29       85      2020-02-24     1    9.5       0\n",
       "435   438       29       79      2020-02-24     1    9.0       0\n",
       "\n",
       "[436 rows x 7 columns]"
      ]
     },
     "execution_count": 63,
     "metadata": {},
     "output_type": "execute_result"
    }
   ],
   "source": [
    "# Write your code here\n",
    "evaluation"
   ]
  },
  {
   "cell_type": "markdown",
   "metadata": {
    "colab_type": "text",
    "id": "NjDwO7mTKwSj"
   },
   "source": [
    "**Problem 3**: Write a python function that will take batch name and a date range as input and outputs the most consistent student in that given daterange and batch\n",
    "\n",
    "**Note**: Come up with your definition of consistency\n",
    "\n",
    "**Marks - 20** "
   ]
  },
  {
   "cell_type": "code",
   "execution_count": 99,
   "metadata": {
    "colab": {},
    "colab_type": "code",
    "id": "pM3qakcfMQEn"
   },
   "outputs": [
    {
     "name": "stdout",
     "output_type": "stream",
     "text": [
      "   user_id   fname  lname  score  late\n",
      "0       75  Ritwik  Ghosh  154.5     1\n"
     ]
    }
   ],
   "source": [
    "def func(batchname,startdate,enddate):\n",
    "    \n",
    "    BatchId = batch[batch['batch_name'] == batchname]\n",
    "    x=BatchId['batch_id'].values[0]\n",
    "\n",
    "\n",
    "    batch_Students = users.groupby('batch_id').get_group(x)\n",
    "    Date_range= evaluation[(evaluation['user_id'].isin(batch_Students['user_id'])) &(evaluation['evaluation_date']>=startdate) &(evaluation['evaluation_date']<=enddate)]\n",
    "    top=Date_range.groupby('user_id')['score','late','winner'].sum().sort_values('score', ascending = False).head(1)\n",
    "    student_at_top=top.merge(users,left_on='user_id',right_on='user_id')\n",
    "    \n",
    "    print(student_at_top[['user_id','fname','lname','score','late']])\n",
    "func(\"Machine Learning Kolkata 2\",\"2020-01-23\",\"2020-02-23\")    "
   ]
  },
  {
   "cell_type": "markdown",
   "metadata": {
    "colab_type": "text",
    "id": "isIEYJsfME2W"
   },
   "source": [
    "**Problem 4**: Find the best student across batches\n",
    "\n",
    "**Marks - 20**\n"
   ]
  },
  {
   "cell_type": "code",
   "execution_count": 98,
   "metadata": {
    "colab": {},
    "colab_type": "code",
    "id": "fScqy8GkKtzS"
   },
   "outputs": [],
   "source": [
    "# Write your code here\n",
    "\n",
    "batch_Id = batch['batch_id']\n",
    "student_user = users.groupby('batch_id')['user_id']\n",
    "student_batch_Task = batchTask.groupby('batch_id')\n",
    "\n"
   ]
  },
  {
   "cell_type": "markdown",
   "metadata": {
    "colab_type": "text",
    "id": "i_nZV2O0MfpA"
   },
   "source": [
    "**Problem 5** : Write a function/piece of analysis that can compare the performance of 2 batches on the whole\n",
    "\n",
    "**Note**: Again Abstract\n",
    "\n",
    "**Note 2**: Will be judging you a lot on the basis of this.\n",
    "\n",
    "**Note 3**: You can get an instant internship under us, if can apply the right thought process to this problem\n",
    "\n",
    "**Marks - 50**"
   ]
  },
  {
   "cell_type": "code",
   "execution_count": 0,
   "metadata": {
    "colab": {},
    "colab_type": "code",
    "id": "lwJ1FkVqNCK1"
   },
   "outputs": [],
   "source": [
    "# Write your code here"
   ]
  },
  {
   "cell_type": "markdown",
   "metadata": {
    "colab_type": "text",
    "id": "YBW2zMk6NuA4"
   },
   "source": [
    "**Problem 6** : Surprise us\n",
    "\n",
    "**Description**: Find something(point/points of analysis) that might surprise us\n",
    "\n",
    "**Marks - 50**"
   ]
  },
  {
   "cell_type": "code",
   "execution_count": 0,
   "metadata": {
    "colab": {},
    "colab_type": "code",
    "id": "Nq3QoJeYOCEo"
   },
   "outputs": [],
   "source": []
  }
 ],
 "metadata": {
  "colab": {
   "name": "Mushrequa Nawaz - Pandas-hackathon.ipynb",
   "provenance": []
  },
  "kernelspec": {
   "display_name": "Python 3",
   "language": "python",
   "name": "python3"
  },
  "language_info": {
   "codemirror_mode": {
    "name": "ipython",
    "version": 3
   },
   "file_extension": ".py",
   "mimetype": "text/x-python",
   "name": "python",
   "nbconvert_exporter": "python",
   "pygments_lexer": "ipython3",
   "version": "3.7.4"
  }
 },
 "nbformat": 4,
 "nbformat_minor": 1
}
